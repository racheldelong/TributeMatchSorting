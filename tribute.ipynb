{
 "cells": [
  {
   "cell_type": "markdown",
   "metadata": {},
   "source": [
    "# Tales of Tribute Deck Suggestions"
   ]
  },
  {
   "cell_type": "markdown",
   "metadata": {},
   "source": [
    "#### Import modules"
   ]
  },
  {
   "cell_type": "code",
   "execution_count": 1,
   "metadata": {},
   "outputs": [],
   "source": [
    "import pandas as pd\n",
    "import numpy as np\n",
    "from itertools import combinations\n",
    "\n",
    "import matplotlib.pyplot as plt\n",
    "\n",
    "import gspread\n",
    "from gspread_dataframe import get_as_dataframe, set_with_dataframe"
   ]
  },
  {
   "cell_type": "markdown",
   "metadata": {},
   "source": [
    "## Import data"
   ]
  },
  {
   "cell_type": "code",
   "execution_count": 2,
   "metadata": {},
   "outputs": [],
   "source": [
    "# import ToT match details from google sheets\n",
    "\n",
    "gc = gspread.service_account()\n",
    "\n",
    "# name of file in Google Sheets\n",
    "sh = gc.open('Tales of Tribute')\n",
    "\n",
    "# name of sheet in file\n",
    "df = get_as_dataframe(sh.worksheet('matches'))"
   ]
  },
  {
   "cell_type": "code",
   "execution_count": 3,
   "metadata": {},
   "outputs": [
    {
     "data": {
      "text/html": [
       "<div>\n",
       "<style scoped>\n",
       "    .dataframe tbody tr th:only-of-type {\n",
       "        vertical-align: middle;\n",
       "    }\n",
       "\n",
       "    .dataframe tbody tr th {\n",
       "        vertical-align: top;\n",
       "    }\n",
       "\n",
       "    .dataframe thead th {\n",
       "        text-align: right;\n",
       "    }\n",
       "</style>\n",
       "<table border=\"1\" class=\"dataframe\">\n",
       "  <thead>\n",
       "    <tr style=\"text-align: right;\">\n",
       "      <th></th>\n",
       "      <th>choice</th>\n",
       "      <th>opponent</th>\n",
       "      <th>p1 first</th>\n",
       "      <th>p2 first</th>\n",
       "      <th>p2 second</th>\n",
       "      <th>p1 second</th>\n",
       "      <th>result</th>\n",
       "      <th>notes</th>\n",
       "    </tr>\n",
       "  </thead>\n",
       "  <tbody>\n",
       "    <tr>\n",
       "      <th>0</th>\n",
       "      <td>2.0</td>\n",
       "      <td>miribeans</td>\n",
       "      <td>black</td>\n",
       "      <td>red</td>\n",
       "      <td>green</td>\n",
       "      <td>blue</td>\n",
       "      <td>W</td>\n",
       "      <td>NaN</td>\n",
       "    </tr>\n",
       "    <tr>\n",
       "      <th>1</th>\n",
       "      <td>1.0</td>\n",
       "      <td>Kovuash</td>\n",
       "      <td>red</td>\n",
       "      <td>yellow</td>\n",
       "      <td>purple</td>\n",
       "      <td>green</td>\n",
       "      <td>W</td>\n",
       "      <td>NaN</td>\n",
       "    </tr>\n",
       "    <tr>\n",
       "      <th>2</th>\n",
       "      <td>2.0</td>\n",
       "      <td>Kovuash</td>\n",
       "      <td>red</td>\n",
       "      <td>green</td>\n",
       "      <td>black</td>\n",
       "      <td>purple</td>\n",
       "      <td>L</td>\n",
       "      <td>NaN</td>\n",
       "    </tr>\n",
       "    <tr>\n",
       "      <th>3</th>\n",
       "      <td>1.0</td>\n",
       "      <td>Kovuash</td>\n",
       "      <td>green</td>\n",
       "      <td>red</td>\n",
       "      <td>purple</td>\n",
       "      <td>yellow</td>\n",
       "      <td>W</td>\n",
       "      <td>NaN</td>\n",
       "    </tr>\n",
       "    <tr>\n",
       "      <th>4</th>\n",
       "      <td>1.0</td>\n",
       "      <td>RagedAvenger</td>\n",
       "      <td>green</td>\n",
       "      <td>blue</td>\n",
       "      <td>yellow</td>\n",
       "      <td>red</td>\n",
       "      <td>W</td>\n",
       "      <td>great cards</td>\n",
       "    </tr>\n",
       "  </tbody>\n",
       "</table>\n",
       "</div>"
      ],
      "text/plain": [
       "   choice      opponent p1 first p2 first p2 second p1 second result  \\\n",
       "0     2.0     miribeans    black      red     green      blue      W   \n",
       "1     1.0       Kovuash      red   yellow    purple     green      W   \n",
       "2     2.0       Kovuash      red    green     black    purple      L   \n",
       "3     1.0       Kovuash    green      red    purple    yellow      W   \n",
       "4     1.0  RagedAvenger    green     blue    yellow       red      W   \n",
       "\n",
       "         notes  \n",
       "0          NaN  \n",
       "1          NaN  \n",
       "2          NaN  \n",
       "3          NaN  \n",
       "4  great cards  "
      ]
     },
     "execution_count": 3,
     "metadata": {},
     "output_type": "execute_result"
    }
   ],
   "source": [
    "df.head(5)"
   ]
  },
  {
   "cell_type": "markdown",
   "metadata": {},
   "source": [
    "## Clean data"
   ]
  },
  {
   "cell_type": "markdown",
   "metadata": {},
   "source": [
    "###### Functions\n"
   ]
  },
  {
   "cell_type": "code",
   "execution_count": 4,
   "metadata": {},
   "outputs": [],
   "source": [
    "# sort decks in string alphabetically\n",
    "def sort_decks(chosen_decks):\n",
    "\n",
    "\t# convert string to lowercase\n",
    "\tdecks = chosen_decks.lower()\n",
    "\t# split string into individual decks\n",
    "\tdecks = decks.split()\n",
    "\n",
    "\t# sort decks alphabetically\n",
    "\tdecks.sort()\n",
    "\n",
    "\t# create empty string\n",
    "\tcombined = ''\n",
    "\n",
    "\tfor deck in range(len(decks)):\n",
    "\t\tcombined = combined + decks[deck] + ' '\n",
    "\n",
    "\t# remove extra space at the end\n",
    "\tcombined = combined.strip()\n",
    "\treturn combined"
   ]
  },
  {
   "cell_type": "code",
   "execution_count": 5,
   "metadata": {},
   "outputs": [],
   "source": [
    "# remove any rows with missing match info\n",
    "df = df.dropna(subset=['p1 first', 'p2 first', 'p2 second', 'p1 second', 'result'])\n",
    "\n",
    "# reset index\n",
    "df.reset_index(inplace=True, drop=True)\n",
    "\n",
    "# convert choice order column to integers\n",
    "df['choice'] = df['choice'].apply(int)\n",
    "\n",
    "# replace nan in notes column with empty strings\n",
    "df['notes'] = df['notes'].replace(np.nan, '', regex=True)"
   ]
  },
  {
   "cell_type": "code",
   "execution_count": 6,
   "metadata": {},
   "outputs": [],
   "source": [
    "# remove whitespace from decks + results & convert to lowercase\n",
    "for col in df[['p1 first', 'p2 first', 'p2 second', 'p1 second', 'result']]:\n",
    "    df[col] = df[col].str.strip().str.lower()\n",
    "\n",
    "# remove whitespace from opponent names\n",
    "df['opponent'] = df['opponent'].str.strip()"
   ]
  },
  {
   "cell_type": "markdown",
   "metadata": {},
   "source": [
    "###### Replace deck names"
   ]
  },
  {
   "cell_type": "code",
   "execution_count": 7,
   "metadata": {},
   "outputs": [],
   "source": [
    "# dictionary of current deck names & replacements\n",
    "deck_names = {\n",
    "    'black':'reach', \n",
    "    'blue':'psijic', \n",
    "    'green':'hunding', \n",
    "    'orange':'rajhin', \n",
    "    'orgnum':'orgnum', \n",
    "    'purple':'crow', \n",
    "    'red':'pelin', \n",
    "    'yellow':'hlaalu', \n",
    "    'druid':'druid'\n",
    "    }\n",
    "\n",
    "# replace deck names from spreadsheet with proper deck names\n",
    "df = df.replace(deck_names)\n",
    "\n",
    "# ADD CHECK FOR ANY DECK NAMES THAT AREN'T IN DICT?"
   ]
  },
  {
   "cell_type": "code",
   "execution_count": 8,
   "metadata": {},
   "outputs": [
    {
     "data": {
      "text/html": [
       "<div>\n",
       "<style scoped>\n",
       "    .dataframe tbody tr th:only-of-type {\n",
       "        vertical-align: middle;\n",
       "    }\n",
       "\n",
       "    .dataframe tbody tr th {\n",
       "        vertical-align: top;\n",
       "    }\n",
       "\n",
       "    .dataframe thead th {\n",
       "        text-align: right;\n",
       "    }\n",
       "</style>\n",
       "<table border=\"1\" class=\"dataframe\">\n",
       "  <thead>\n",
       "    <tr style=\"text-align: right;\">\n",
       "      <th></th>\n",
       "      <th>choice</th>\n",
       "      <th>opponent</th>\n",
       "      <th>p1 first</th>\n",
       "      <th>p2 first</th>\n",
       "      <th>p2 second</th>\n",
       "      <th>p1 second</th>\n",
       "      <th>result</th>\n",
       "      <th>notes</th>\n",
       "    </tr>\n",
       "  </thead>\n",
       "  <tbody>\n",
       "    <tr>\n",
       "      <th>0</th>\n",
       "      <td>2</td>\n",
       "      <td>miribeans</td>\n",
       "      <td>reach</td>\n",
       "      <td>pelin</td>\n",
       "      <td>hunding</td>\n",
       "      <td>psijic</td>\n",
       "      <td>w</td>\n",
       "      <td></td>\n",
       "    </tr>\n",
       "    <tr>\n",
       "      <th>1</th>\n",
       "      <td>1</td>\n",
       "      <td>Kovuash</td>\n",
       "      <td>pelin</td>\n",
       "      <td>hlaalu</td>\n",
       "      <td>crow</td>\n",
       "      <td>hunding</td>\n",
       "      <td>w</td>\n",
       "      <td></td>\n",
       "    </tr>\n",
       "    <tr>\n",
       "      <th>2</th>\n",
       "      <td>2</td>\n",
       "      <td>Kovuash</td>\n",
       "      <td>pelin</td>\n",
       "      <td>hunding</td>\n",
       "      <td>reach</td>\n",
       "      <td>crow</td>\n",
       "      <td>l</td>\n",
       "      <td></td>\n",
       "    </tr>\n",
       "    <tr>\n",
       "      <th>3</th>\n",
       "      <td>1</td>\n",
       "      <td>Kovuash</td>\n",
       "      <td>hunding</td>\n",
       "      <td>pelin</td>\n",
       "      <td>crow</td>\n",
       "      <td>hlaalu</td>\n",
       "      <td>w</td>\n",
       "      <td></td>\n",
       "    </tr>\n",
       "    <tr>\n",
       "      <th>4</th>\n",
       "      <td>1</td>\n",
       "      <td>RagedAvenger</td>\n",
       "      <td>hunding</td>\n",
       "      <td>psijic</td>\n",
       "      <td>hlaalu</td>\n",
       "      <td>pelin</td>\n",
       "      <td>w</td>\n",
       "      <td>great cards</td>\n",
       "    </tr>\n",
       "  </tbody>\n",
       "</table>\n",
       "</div>"
      ],
      "text/plain": [
       "   choice      opponent p1 first p2 first p2 second p1 second result  \\\n",
       "0       2     miribeans    reach    pelin   hunding    psijic      w   \n",
       "1       1       Kovuash    pelin   hlaalu      crow   hunding      w   \n",
       "2       2       Kovuash    pelin  hunding     reach      crow      l   \n",
       "3       1       Kovuash  hunding    pelin      crow    hlaalu      w   \n",
       "4       1  RagedAvenger  hunding   psijic    hlaalu     pelin      w   \n",
       "\n",
       "         notes  \n",
       "0               \n",
       "1               \n",
       "2               \n",
       "3               \n",
       "4  great cards  "
      ]
     },
     "execution_count": 8,
     "metadata": {},
     "output_type": "execute_result"
    }
   ],
   "source": [
    "df.head(5)"
   ]
  },
  {
   "cell_type": "markdown",
   "metadata": {},
   "source": [
    "###### Convert result column for calculating scores"
   ]
  },
  {
   "cell_type": "code",
   "execution_count": 9,
   "metadata": {},
   "outputs": [
    {
     "data": {
      "text/plain": [
       "array(['w', 'l', 'c', 'dc'], dtype=object)"
      ]
     },
     "execution_count": 9,
     "metadata": {},
     "output_type": "execute_result"
    }
   ],
   "source": [
    "# check unique values from the 'result' col\n",
    "df.result.unique()"
   ]
  },
  {
   "cell_type": "code",
   "execution_count": 10,
   "metadata": {},
   "outputs": [],
   "source": [
    "# match record values used\n",
    "# results column values in df\n",
    "win = 'w'\n",
    "loss = 'l'\n",
    "concede = 'c' # optional\n",
    "\n",
    "# create new columns to hold number values for results of each match\n",
    "df['won'] = 0\n",
    "df['lost'] = 0\n",
    "\n",
    "# split results column into either won or lost col\n",
    "df.loc[df['result'] == win, 'won'] = 1\n",
    "df.loc[df['result'] == loss, 'lost'] = 1\n",
    "df.loc[df['result'] == concede, 'lost'] = 1"
   ]
  },
  {
   "cell_type": "code",
   "execution_count": 11,
   "metadata": {},
   "outputs": [
    {
     "data": {
      "text/html": [
       "<div>\n",
       "<style scoped>\n",
       "    .dataframe tbody tr th:only-of-type {\n",
       "        vertical-align: middle;\n",
       "    }\n",
       "\n",
       "    .dataframe tbody tr th {\n",
       "        vertical-align: top;\n",
       "    }\n",
       "\n",
       "    .dataframe thead th {\n",
       "        text-align: right;\n",
       "    }\n",
       "</style>\n",
       "<table border=\"1\" class=\"dataframe\">\n",
       "  <thead>\n",
       "    <tr style=\"text-align: right;\">\n",
       "      <th></th>\n",
       "      <th>choice</th>\n",
       "      <th>opponent</th>\n",
       "      <th>p1 first</th>\n",
       "      <th>p2 first</th>\n",
       "      <th>p2 second</th>\n",
       "      <th>p1 second</th>\n",
       "      <th>result</th>\n",
       "      <th>notes</th>\n",
       "      <th>won</th>\n",
       "      <th>lost</th>\n",
       "    </tr>\n",
       "  </thead>\n",
       "  <tbody>\n",
       "    <tr>\n",
       "      <th>49</th>\n",
       "      <td>1</td>\n",
       "      <td>qkslzodla</td>\n",
       "      <td>hunding</td>\n",
       "      <td>orgnum</td>\n",
       "      <td>crow</td>\n",
       "      <td>hlaalu</td>\n",
       "      <td>dc</td>\n",
       "      <td>internet went out</td>\n",
       "      <td>0</td>\n",
       "      <td>0</td>\n",
       "    </tr>\n",
       "    <tr>\n",
       "      <th>51</th>\n",
       "      <td>1</td>\n",
       "      <td>aestrivex</td>\n",
       "      <td>hunding</td>\n",
       "      <td>psijic</td>\n",
       "      <td>rajhin</td>\n",
       "      <td>hlaalu</td>\n",
       "      <td>dc</td>\n",
       "      <td>internet went out</td>\n",
       "      <td>0</td>\n",
       "      <td>0</td>\n",
       "    </tr>\n",
       "    <tr>\n",
       "      <th>325</th>\n",
       "      <td>2</td>\n",
       "      <td>Slick-Fox</td>\n",
       "      <td>crow</td>\n",
       "      <td>hunding</td>\n",
       "      <td>hlaalu</td>\n",
       "      <td>reach</td>\n",
       "      <td>dc</td>\n",
       "      <td>fml</td>\n",
       "      <td>0</td>\n",
       "      <td>0</td>\n",
       "    </tr>\n",
       "    <tr>\n",
       "      <th>400</th>\n",
       "      <td>1</td>\n",
       "      <td>NordCarbon</td>\n",
       "      <td>pelin</td>\n",
       "      <td>rajhin</td>\n",
       "      <td>psijic</td>\n",
       "      <td>hlaalu</td>\n",
       "      <td>dc</td>\n",
       "      <td>disconnected</td>\n",
       "      <td>0</td>\n",
       "      <td>0</td>\n",
       "    </tr>\n",
       "    <tr>\n",
       "      <th>586</th>\n",
       "      <td>1</td>\n",
       "      <td>deejaypalmer</td>\n",
       "      <td>pelin</td>\n",
       "      <td>rajhin</td>\n",
       "      <td>hlaalu</td>\n",
       "      <td>crow</td>\n",
       "      <td>dc</td>\n",
       "      <td>fuck trains, I was winning.</td>\n",
       "      <td>0</td>\n",
       "      <td>0</td>\n",
       "    </tr>\n",
       "  </tbody>\n",
       "</table>\n",
       "</div>"
      ],
      "text/plain": [
       "     choice      opponent p1 first p2 first p2 second p1 second result  \\\n",
       "49        1     qkslzodla  hunding   orgnum      crow    hlaalu     dc   \n",
       "51        1     aestrivex  hunding   psijic    rajhin    hlaalu     dc   \n",
       "325       2     Slick-Fox     crow  hunding    hlaalu     reach     dc   \n",
       "400       1    NordCarbon    pelin   rajhin    psijic    hlaalu     dc   \n",
       "586       1  deejaypalmer    pelin   rajhin    hlaalu      crow     dc   \n",
       "\n",
       "                           notes  won  lost  \n",
       "49             internet went out    0     0  \n",
       "51             internet went out    0     0  \n",
       "325                          fml    0     0  \n",
       "400                 disconnected    0     0  \n",
       "586  fuck trains, I was winning.    0     0  "
      ]
     },
     "metadata": {},
     "output_type": "display_data"
    }
   ],
   "source": [
    "# check rows where neither 'won' or 'lost' were changed to 1\n",
    "display(df[df['won'] + df['lost'] < 1])"
   ]
  },
  {
   "cell_type": "markdown",
   "metadata": {},
   "source": [
    "###### Group match results by selected decks"
   ]
  },
  {
   "cell_type": "code",
   "execution_count": 12,
   "metadata": {},
   "outputs": [],
   "source": [
    "df['decks'] = (\n",
    "    df['p1 first']\n",
    "    + ' '\n",
    "    + df['p2 first']\n",
    "    + ' '\n",
    "    + df['p2 second']\n",
    "    + ' '\n",
    "    + df['p1 second']\n",
    ")\n",
    "\n",
    "# sort chosen decks values alphabetically\n",
    "for match, decks in enumerate(df['decks']):\n",
    "    df.at[match, 'decks'] = sort_decks(decks)"
   ]
  },
  {
   "cell_type": "code",
   "execution_count": 13,
   "metadata": {},
   "outputs": [
    {
     "data": {
      "text/html": [
       "<div>\n",
       "<style scoped>\n",
       "    .dataframe tbody tr th:only-of-type {\n",
       "        vertical-align: middle;\n",
       "    }\n",
       "\n",
       "    .dataframe tbody tr th {\n",
       "        vertical-align: top;\n",
       "    }\n",
       "\n",
       "    .dataframe thead th {\n",
       "        text-align: right;\n",
       "    }\n",
       "</style>\n",
       "<table border=\"1\" class=\"dataframe\">\n",
       "  <thead>\n",
       "    <tr style=\"text-align: right;\">\n",
       "      <th></th>\n",
       "      <th>choice</th>\n",
       "      <th>opponent</th>\n",
       "      <th>p1 first</th>\n",
       "      <th>p2 first</th>\n",
       "      <th>p2 second</th>\n",
       "      <th>p1 second</th>\n",
       "      <th>result</th>\n",
       "      <th>notes</th>\n",
       "      <th>won</th>\n",
       "      <th>lost</th>\n",
       "      <th>decks</th>\n",
       "    </tr>\n",
       "  </thead>\n",
       "  <tbody>\n",
       "    <tr>\n",
       "      <th>0</th>\n",
       "      <td>2</td>\n",
       "      <td>miribeans</td>\n",
       "      <td>reach</td>\n",
       "      <td>pelin</td>\n",
       "      <td>hunding</td>\n",
       "      <td>psijic</td>\n",
       "      <td>w</td>\n",
       "      <td></td>\n",
       "      <td>1</td>\n",
       "      <td>0</td>\n",
       "      <td>hunding pelin psijic reach</td>\n",
       "    </tr>\n",
       "    <tr>\n",
       "      <th>1</th>\n",
       "      <td>1</td>\n",
       "      <td>Kovuash</td>\n",
       "      <td>pelin</td>\n",
       "      <td>hlaalu</td>\n",
       "      <td>crow</td>\n",
       "      <td>hunding</td>\n",
       "      <td>w</td>\n",
       "      <td></td>\n",
       "      <td>1</td>\n",
       "      <td>0</td>\n",
       "      <td>crow hlaalu hunding pelin</td>\n",
       "    </tr>\n",
       "    <tr>\n",
       "      <th>2</th>\n",
       "      <td>2</td>\n",
       "      <td>Kovuash</td>\n",
       "      <td>pelin</td>\n",
       "      <td>hunding</td>\n",
       "      <td>reach</td>\n",
       "      <td>crow</td>\n",
       "      <td>l</td>\n",
       "      <td></td>\n",
       "      <td>0</td>\n",
       "      <td>1</td>\n",
       "      <td>crow hunding pelin reach</td>\n",
       "    </tr>\n",
       "    <tr>\n",
       "      <th>3</th>\n",
       "      <td>1</td>\n",
       "      <td>Kovuash</td>\n",
       "      <td>hunding</td>\n",
       "      <td>pelin</td>\n",
       "      <td>crow</td>\n",
       "      <td>hlaalu</td>\n",
       "      <td>w</td>\n",
       "      <td></td>\n",
       "      <td>1</td>\n",
       "      <td>0</td>\n",
       "      <td>crow hlaalu hunding pelin</td>\n",
       "    </tr>\n",
       "    <tr>\n",
       "      <th>4</th>\n",
       "      <td>1</td>\n",
       "      <td>RagedAvenger</td>\n",
       "      <td>hunding</td>\n",
       "      <td>psijic</td>\n",
       "      <td>hlaalu</td>\n",
       "      <td>pelin</td>\n",
       "      <td>w</td>\n",
       "      <td>great cards</td>\n",
       "      <td>1</td>\n",
       "      <td>0</td>\n",
       "      <td>hlaalu hunding pelin psijic</td>\n",
       "    </tr>\n",
       "  </tbody>\n",
       "</table>\n",
       "</div>"
      ],
      "text/plain": [
       "   choice      opponent p1 first p2 first p2 second p1 second result  \\\n",
       "0       2     miribeans    reach    pelin   hunding    psijic      w   \n",
       "1       1       Kovuash    pelin   hlaalu      crow   hunding      w   \n",
       "2       2       Kovuash    pelin  hunding     reach      crow      l   \n",
       "3       1       Kovuash  hunding    pelin      crow    hlaalu      w   \n",
       "4       1  RagedAvenger  hunding   psijic    hlaalu     pelin      w   \n",
       "\n",
       "         notes  won  lost                        decks  \n",
       "0                 1     0   hunding pelin psijic reach  \n",
       "1                 1     0    crow hlaalu hunding pelin  \n",
       "2                 0     1     crow hunding pelin reach  \n",
       "3                 1     0    crow hlaalu hunding pelin  \n",
       "4  great cards    1     0  hlaalu hunding pelin psijic  "
      ]
     },
     "execution_count": 13,
     "metadata": {},
     "output_type": "execute_result"
    }
   ],
   "source": [
    "df.head(5)"
   ]
  },
  {
   "cell_type": "markdown",
   "metadata": {},
   "source": [
    "## Deck combination scores"
   ]
  },
  {
   "cell_type": "code",
   "execution_count": 14,
   "metadata": {},
   "outputs": [],
   "source": [
    "def get_scores(df):\n",
    "    df_scores = pd.concat((df.groupby('decks')['won'].sum(), df.groupby('decks')['lost'].sum()), axis=1)\n",
    "\n",
    "    # create column of total matches per deck combination\n",
    "    df_scores['total'] = df_scores['won'] + df_scores['lost']\n",
    "\n",
    "    # create column of % of matches that are wins per unique combination\n",
    "    df_scores['% wins'] = ((df_scores['won'] / df_scores['total']) * 100).round(decimals=1)\n",
    "\n",
    "    return df_scores"
   ]
  },
  {
   "cell_type": "code",
   "execution_count": 15,
   "metadata": {},
   "outputs": [],
   "source": [
    "scores = get_scores(df)"
   ]
  },
  {
   "cell_type": "code",
   "execution_count": 16,
   "metadata": {},
   "outputs": [
    {
     "data": {
      "text/html": [
       "<div>\n",
       "<style scoped>\n",
       "    .dataframe tbody tr th:only-of-type {\n",
       "        vertical-align: middle;\n",
       "    }\n",
       "\n",
       "    .dataframe tbody tr th {\n",
       "        vertical-align: top;\n",
       "    }\n",
       "\n",
       "    .dataframe thead th {\n",
       "        text-align: right;\n",
       "    }\n",
       "</style>\n",
       "<table border=\"1\" class=\"dataframe\">\n",
       "  <thead>\n",
       "    <tr style=\"text-align: right;\">\n",
       "      <th></th>\n",
       "      <th>won</th>\n",
       "      <th>lost</th>\n",
       "      <th>total</th>\n",
       "      <th>% wins</th>\n",
       "    </tr>\n",
       "    <tr>\n",
       "      <th>decks</th>\n",
       "      <th></th>\n",
       "      <th></th>\n",
       "      <th></th>\n",
       "      <th></th>\n",
       "    </tr>\n",
       "  </thead>\n",
       "  <tbody>\n",
       "    <tr>\n",
       "      <th>crow druid hlaalu psijic</th>\n",
       "      <td>2</td>\n",
       "      <td>1</td>\n",
       "      <td>3</td>\n",
       "      <td>66.7</td>\n",
       "    </tr>\n",
       "    <tr>\n",
       "      <th>crow druid hlaalu reach</th>\n",
       "      <td>1</td>\n",
       "      <td>0</td>\n",
       "      <td>1</td>\n",
       "      <td>100.0</td>\n",
       "    </tr>\n",
       "    <tr>\n",
       "      <th>crow druid orgnum psijic</th>\n",
       "      <td>1</td>\n",
       "      <td>0</td>\n",
       "      <td>1</td>\n",
       "      <td>100.0</td>\n",
       "    </tr>\n",
       "    <tr>\n",
       "      <th>crow hlaalu hunding orgnum</th>\n",
       "      <td>8</td>\n",
       "      <td>2</td>\n",
       "      <td>10</td>\n",
       "      <td>80.0</td>\n",
       "    </tr>\n",
       "    <tr>\n",
       "      <th>crow hlaalu hunding pelin</th>\n",
       "      <td>43</td>\n",
       "      <td>18</td>\n",
       "      <td>61</td>\n",
       "      <td>70.5</td>\n",
       "    </tr>\n",
       "  </tbody>\n",
       "</table>\n",
       "</div>"
      ],
      "text/plain": [
       "                            won  lost  total  % wins\n",
       "decks                                               \n",
       "crow druid hlaalu psijic      2     1      3    66.7\n",
       "crow druid hlaalu reach       1     0      1   100.0\n",
       "crow druid orgnum psijic      1     0      1   100.0\n",
       "crow hlaalu hunding orgnum    8     2     10    80.0\n",
       "crow hlaalu hunding pelin    43    18     61    70.5"
      ]
     },
     "execution_count": 16,
     "metadata": {},
     "output_type": "execute_result"
    }
   ],
   "source": [
    "scores.head(5)"
   ]
  },
  {
   "cell_type": "markdown",
   "metadata": {},
   "source": [
    "###### Create dataframe of all possible deck combinations"
   ]
  },
  {
   "cell_type": "code",
   "execution_count": 17,
   "metadata": {},
   "outputs": [],
   "source": [
    "# create list of all decks from deck_names values\n",
    "all_decks = list(deck_names.values())\n",
    "\n",
    "# create list of all unique combinations of 4 decks\n",
    "combos = [' '.join(map(str, combo)) for combo in combinations(all_decks, 4)]\n",
    "\n",
    "# convert list to dataframe\n",
    "combos = pd.DataFrame(combos, columns=['decks'])"
   ]
  },
  {
   "cell_type": "code",
   "execution_count": 18,
   "metadata": {},
   "outputs": [],
   "source": [
    "# sort chosen decks values alphabetically\n",
    "for match, decks in enumerate(combos['decks']):\n",
    "    combos.at[match, 'decks'] = sort_decks(decks)\n",
    "\n",
    "# sort dataframe by 'decks' values, alphabetically\n",
    "combos = combos.sort_values('decks')"
   ]
  },
  {
   "cell_type": "markdown",
   "metadata": {},
   "source": [
    "###### Merge all combinations with match scores"
   ]
  },
  {
   "cell_type": "code",
   "execution_count": 19,
   "metadata": {},
   "outputs": [],
   "source": [
    "# left merge scores dataframe onto combos\n",
    "combos = combos.merge(\n",
    "    scores, how='left', left_on='decks', right_index=True\n",
    ")\n",
    "\n",
    "# fill any blanks from unused combinations with 0s or blanks\n",
    "combos.fillna({'won': 0, 'lost': 0, 'total': 0}, inplace=True)"
   ]
  },
  {
   "cell_type": "code",
   "execution_count": 20,
   "metadata": {},
   "outputs": [
    {
     "data": {
      "text/html": [
       "<div>\n",
       "<style scoped>\n",
       "    .dataframe tbody tr th:only-of-type {\n",
       "        vertical-align: middle;\n",
       "    }\n",
       "\n",
       "    .dataframe tbody tr th {\n",
       "        vertical-align: top;\n",
       "    }\n",
       "\n",
       "    .dataframe thead th {\n",
       "        text-align: right;\n",
       "    }\n",
       "</style>\n",
       "<table border=\"1\" class=\"dataframe\">\n",
       "  <thead>\n",
       "    <tr style=\"text-align: right;\">\n",
       "      <th></th>\n",
       "      <th>decks</th>\n",
       "      <th>won</th>\n",
       "      <th>lost</th>\n",
       "      <th>total</th>\n",
       "      <th>% wins</th>\n",
       "    </tr>\n",
       "  </thead>\n",
       "  <tbody>\n",
       "    <tr>\n",
       "      <th>109</th>\n",
       "      <td>crow druid hlaalu hunding</td>\n",
       "      <td>0.0</td>\n",
       "      <td>0.0</td>\n",
       "      <td>0.0</td>\n",
       "      <td>NaN</td>\n",
       "    </tr>\n",
       "    <tr>\n",
       "      <th>123</th>\n",
       "      <td>crow druid hlaalu orgnum</td>\n",
       "      <td>0.0</td>\n",
       "      <td>0.0</td>\n",
       "      <td>0.0</td>\n",
       "      <td>NaN</td>\n",
       "    </tr>\n",
       "    <tr>\n",
       "      <th>125</th>\n",
       "      <td>crow druid hlaalu pelin</td>\n",
       "      <td>0.0</td>\n",
       "      <td>0.0</td>\n",
       "      <td>0.0</td>\n",
       "      <td>NaN</td>\n",
       "    </tr>\n",
       "    <tr>\n",
       "      <th>89</th>\n",
       "      <td>crow druid hlaalu psijic</td>\n",
       "      <td>2.0</td>\n",
       "      <td>1.0</td>\n",
       "      <td>3.0</td>\n",
       "      <td>66.7</td>\n",
       "    </tr>\n",
       "    <tr>\n",
       "      <th>119</th>\n",
       "      <td>crow druid hlaalu rajhin</td>\n",
       "      <td>0.0</td>\n",
       "      <td>0.0</td>\n",
       "      <td>0.0</td>\n",
       "      <td>NaN</td>\n",
       "    </tr>\n",
       "  </tbody>\n",
       "</table>\n",
       "</div>"
      ],
      "text/plain": [
       "                         decks  won  lost  total  % wins\n",
       "109  crow druid hlaalu hunding  0.0   0.0    0.0     NaN\n",
       "123   crow druid hlaalu orgnum  0.0   0.0    0.0     NaN\n",
       "125    crow druid hlaalu pelin  0.0   0.0    0.0     NaN\n",
       "89    crow druid hlaalu psijic  2.0   1.0    3.0    66.7\n",
       "119   crow druid hlaalu rajhin  0.0   0.0    0.0     NaN"
      ]
     },
     "execution_count": 20,
     "metadata": {},
     "output_type": "execute_result"
    }
   ],
   "source": [
    "combos.head(5)"
   ]
  },
  {
   "cell_type": "code",
   "execution_count": 21,
   "metadata": {},
   "outputs": [],
   "source": [
    "combos_sh = combos.copy()\n",
    "\n",
    "for row, decks in enumerate(combos_sh['decks']):\n",
    "    deck_list = decks.split()\n",
    "    combos_sh.at[row, 'a'] = deck_list[0]\n",
    "    combos_sh.at[row, 'b'] = deck_list[1]\n",
    "    combos_sh.at[row, 'c'] = deck_list[2]\n",
    "    combos_sh.at[row, 'd'] = deck_list[3]"
   ]
  },
  {
   "cell_type": "code",
   "execution_count": 22,
   "metadata": {},
   "outputs": [
    {
     "data": {
      "text/html": [
       "<div>\n",
       "<style scoped>\n",
       "    .dataframe tbody tr th:only-of-type {\n",
       "        vertical-align: middle;\n",
       "    }\n",
       "\n",
       "    .dataframe tbody tr th {\n",
       "        vertical-align: top;\n",
       "    }\n",
       "\n",
       "    .dataframe thead th {\n",
       "        text-align: right;\n",
       "    }\n",
       "</style>\n",
       "<table border=\"1\" class=\"dataframe\">\n",
       "  <thead>\n",
       "    <tr style=\"text-align: right;\">\n",
       "      <th></th>\n",
       "      <th>a</th>\n",
       "      <th>b</th>\n",
       "      <th>c</th>\n",
       "      <th>d</th>\n",
       "      <th>won</th>\n",
       "      <th>lost</th>\n",
       "      <th>total</th>\n",
       "      <th>% wins</th>\n",
       "      <th>decks</th>\n",
       "    </tr>\n",
       "  </thead>\n",
       "  <tbody>\n",
       "    <tr>\n",
       "      <th>109</th>\n",
       "      <td>hlaalu</td>\n",
       "      <td>pelin</td>\n",
       "      <td>rajhin</td>\n",
       "      <td>reach</td>\n",
       "      <td>0.0</td>\n",
       "      <td>0.0</td>\n",
       "      <td>0.0</td>\n",
       "      <td>NaN</td>\n",
       "      <td>crow druid hlaalu hunding</td>\n",
       "    </tr>\n",
       "    <tr>\n",
       "      <th>123</th>\n",
       "      <td>orgnum</td>\n",
       "      <td>pelin</td>\n",
       "      <td>rajhin</td>\n",
       "      <td>reach</td>\n",
       "      <td>0.0</td>\n",
       "      <td>0.0</td>\n",
       "      <td>0.0</td>\n",
       "      <td>NaN</td>\n",
       "      <td>crow druid hlaalu orgnum</td>\n",
       "    </tr>\n",
       "    <tr>\n",
       "      <th>125</th>\n",
       "      <td>pelin</td>\n",
       "      <td>psijic</td>\n",
       "      <td>rajhin</td>\n",
       "      <td>reach</td>\n",
       "      <td>0.0</td>\n",
       "      <td>0.0</td>\n",
       "      <td>0.0</td>\n",
       "      <td>NaN</td>\n",
       "      <td>crow druid hlaalu pelin</td>\n",
       "    </tr>\n",
       "    <tr>\n",
       "      <th>89</th>\n",
       "      <td>druid</td>\n",
       "      <td>pelin</td>\n",
       "      <td>rajhin</td>\n",
       "      <td>reach</td>\n",
       "      <td>2.0</td>\n",
       "      <td>1.0</td>\n",
       "      <td>3.0</td>\n",
       "      <td>66.7</td>\n",
       "      <td>crow druid hlaalu psijic</td>\n",
       "    </tr>\n",
       "    <tr>\n",
       "      <th>119</th>\n",
       "      <td>hunding</td>\n",
       "      <td>pelin</td>\n",
       "      <td>rajhin</td>\n",
       "      <td>reach</td>\n",
       "      <td>0.0</td>\n",
       "      <td>0.0</td>\n",
       "      <td>0.0</td>\n",
       "      <td>NaN</td>\n",
       "      <td>crow druid hlaalu rajhin</td>\n",
       "    </tr>\n",
       "    <tr>\n",
       "      <th>54</th>\n",
       "      <td>crow</td>\n",
       "      <td>pelin</td>\n",
       "      <td>rajhin</td>\n",
       "      <td>reach</td>\n",
       "      <td>1.0</td>\n",
       "      <td>0.0</td>\n",
       "      <td>1.0</td>\n",
       "      <td>100.0</td>\n",
       "      <td>crow druid hlaalu reach</td>\n",
       "    </tr>\n",
       "    <tr>\n",
       "      <th>103</th>\n",
       "      <td>hlaalu</td>\n",
       "      <td>orgnum</td>\n",
       "      <td>pelin</td>\n",
       "      <td>reach</td>\n",
       "      <td>0.0</td>\n",
       "      <td>0.0</td>\n",
       "      <td>0.0</td>\n",
       "      <td>NaN</td>\n",
       "      <td>crow druid hunding orgnum</td>\n",
       "    </tr>\n",
       "    <tr>\n",
       "      <th>108</th>\n",
       "      <td>hlaalu</td>\n",
       "      <td>pelin</td>\n",
       "      <td>psijic</td>\n",
       "      <td>reach</td>\n",
       "      <td>0.0</td>\n",
       "      <td>0.0</td>\n",
       "      <td>0.0</td>\n",
       "      <td>NaN</td>\n",
       "      <td>crow druid hunding pelin</td>\n",
       "    </tr>\n",
       "    <tr>\n",
       "      <th>67</th>\n",
       "      <td>druid</td>\n",
       "      <td>hlaalu</td>\n",
       "      <td>pelin</td>\n",
       "      <td>reach</td>\n",
       "      <td>0.0</td>\n",
       "      <td>0.0</td>\n",
       "      <td>0.0</td>\n",
       "      <td>NaN</td>\n",
       "      <td>crow druid hunding psijic</td>\n",
       "    </tr>\n",
       "    <tr>\n",
       "      <th>97</th>\n",
       "      <td>hlaalu</td>\n",
       "      <td>hunding</td>\n",
       "      <td>pelin</td>\n",
       "      <td>reach</td>\n",
       "      <td>0.0</td>\n",
       "      <td>0.0</td>\n",
       "      <td>0.0</td>\n",
       "      <td>NaN</td>\n",
       "      <td>crow druid hunding rajhin</td>\n",
       "    </tr>\n",
       "  </tbody>\n",
       "</table>\n",
       "</div>"
      ],
      "text/plain": [
       "           a        b       c      d  won  lost  total  % wins  \\\n",
       "109   hlaalu    pelin  rajhin  reach  0.0   0.0    0.0     NaN   \n",
       "123   orgnum    pelin  rajhin  reach  0.0   0.0    0.0     NaN   \n",
       "125    pelin   psijic  rajhin  reach  0.0   0.0    0.0     NaN   \n",
       "89     druid    pelin  rajhin  reach  2.0   1.0    3.0    66.7   \n",
       "119  hunding    pelin  rajhin  reach  0.0   0.0    0.0     NaN   \n",
       "54      crow    pelin  rajhin  reach  1.0   0.0    1.0   100.0   \n",
       "103   hlaalu   orgnum   pelin  reach  0.0   0.0    0.0     NaN   \n",
       "108   hlaalu    pelin  psijic  reach  0.0   0.0    0.0     NaN   \n",
       "67     druid   hlaalu   pelin  reach  0.0   0.0    0.0     NaN   \n",
       "97    hlaalu  hunding   pelin  reach  0.0   0.0    0.0     NaN   \n",
       "\n",
       "                         decks  \n",
       "109  crow druid hlaalu hunding  \n",
       "123   crow druid hlaalu orgnum  \n",
       "125    crow druid hlaalu pelin  \n",
       "89    crow druid hlaalu psijic  \n",
       "119   crow druid hlaalu rajhin  \n",
       "54     crow druid hlaalu reach  \n",
       "103  crow druid hunding orgnum  \n",
       "108   crow druid hunding pelin  \n",
       "67   crow druid hunding psijic  \n",
       "97   crow druid hunding rajhin  "
      ]
     },
     "execution_count": 22,
     "metadata": {},
     "output_type": "execute_result"
    }
   ],
   "source": [
    "combos_sh = combos_sh[['a', 'b', 'c', 'd', 'won', 'lost', 'total', '% wins', 'decks']]\n",
    "combos_sh.head(10)"
   ]
  },
  {
   "cell_type": "markdown",
   "metadata": {},
   "source": [
    "###### Individual deck performance"
   ]
  },
  {
   "cell_type": "code",
   "execution_count": 23,
   "metadata": {},
   "outputs": [],
   "source": [
    "# find success rates for matches with each individual deck\n",
    "\n",
    "single_decks = pd.DataFrame()\n",
    "\n",
    "for deck in all_decks:\n",
    "    # find all deck combinations containing an individual deck\n",
    "    filtered = combos[combos['decks'].str.contains(deck, na=False)]\n",
    "\n",
    "    # find the mean success rate with combinations including that deck\n",
    "    single_decks.at[deck, '% wins'] = filtered['% wins'].mean()\n",
    "    single_decks['% wins'] = single_decks['% wins'].round(decimals=2)\n",
    "\n",
    "    # find total number of matches with deck\n",
    "    single_decks.at[deck, 'matches'] = filtered['total'].sum()"
   ]
  },
  {
   "cell_type": "code",
   "execution_count": 24,
   "metadata": {},
   "outputs": [],
   "source": [
    "# create separate column for deck name\n",
    "single_decks.reset_index(inplace=True)\n",
    "single_decks = single_decks.rename(columns={'index':'deck'})"
   ]
  },
  {
   "cell_type": "code",
   "execution_count": 25,
   "metadata": {},
   "outputs": [],
   "source": [
    "# decks sorted chromatically\n",
    "sorter = ['pelin', 'rajhin', 'hlaalu', 'druid', 'hunding', 'orgnum', 'psijic', 'crow', 'reach']\n",
    "\n",
    "# convert deck column to category type using sorter list\n",
    "single_decks.deck = single_decks.deck.astype('category')\n",
    "single_decks.deck = single_decks.deck.cat.set_categories(sorter)\n",
    "\n",
    "# sort df\n",
    "single_decks = single_decks.sort_values('deck', ascending=False)"
   ]
  },
  {
   "cell_type": "code",
   "execution_count": 26,
   "metadata": {},
   "outputs": [
    {
     "data": {
      "text/html": [
       "<div>\n",
       "<style scoped>\n",
       "    .dataframe tbody tr th:only-of-type {\n",
       "        vertical-align: middle;\n",
       "    }\n",
       "\n",
       "    .dataframe tbody tr th {\n",
       "        vertical-align: top;\n",
       "    }\n",
       "\n",
       "    .dataframe thead th {\n",
       "        text-align: right;\n",
       "    }\n",
       "</style>\n",
       "<table border=\"1\" class=\"dataframe\">\n",
       "  <thead>\n",
       "    <tr style=\"text-align: right;\">\n",
       "      <th></th>\n",
       "      <th>deck</th>\n",
       "      <th>% wins</th>\n",
       "      <th>matches</th>\n",
       "    </tr>\n",
       "  </thead>\n",
       "  <tbody>\n",
       "    <tr>\n",
       "      <th>0</th>\n",
       "      <td>reach</td>\n",
       "      <td>60.40</td>\n",
       "      <td>401.0</td>\n",
       "    </tr>\n",
       "    <tr>\n",
       "      <th>5</th>\n",
       "      <td>crow</td>\n",
       "      <td>54.92</td>\n",
       "      <td>283.0</td>\n",
       "    </tr>\n",
       "    <tr>\n",
       "      <th>1</th>\n",
       "      <td>psijic</td>\n",
       "      <td>53.38</td>\n",
       "      <td>159.0</td>\n",
       "    </tr>\n",
       "    <tr>\n",
       "      <th>4</th>\n",
       "      <td>orgnum</td>\n",
       "      <td>57.66</td>\n",
       "      <td>61.0</td>\n",
       "    </tr>\n",
       "    <tr>\n",
       "      <th>2</th>\n",
       "      <td>hunding</td>\n",
       "      <td>60.96</td>\n",
       "      <td>408.0</td>\n",
       "    </tr>\n",
       "  </tbody>\n",
       "</table>\n",
       "</div>"
      ],
      "text/plain": [
       "      deck  % wins  matches\n",
       "0    reach   60.40    401.0\n",
       "5     crow   54.92    283.0\n",
       "1   psijic   53.38    159.0\n",
       "4   orgnum   57.66     61.0\n",
       "2  hunding   60.96    408.0"
      ]
     },
     "execution_count": 26,
     "metadata": {},
     "output_type": "execute_result"
    }
   ],
   "source": [
    "single_decks.head(5)"
   ]
  },
  {
   "cell_type": "code",
   "execution_count": 27,
   "metadata": {},
   "outputs": [],
   "source": [
    "# deck colors\n",
    "plot_colors = {\n",
    "    'pelin': '#7C211D',\n",
    "    'rajhin': '#B54824',\n",
    "    'hlaalu': '#E29836',\n",
    "    'druid': '#A7BC31',\n",
    "    'hunding': '#417238',\n",
    "    'orgnum': '#51B2BC',\n",
    "    'psijic': '#4C6BB5',\n",
    "    'crow': '#5D3291',\n",
    "    'reach': '#33302F'\n",
    "    }\n",
    "\n",
    "# value at end of each bar\n",
    "bar_text = {'va':'center', 'ha':'right', 'size':10}\n",
    "\n",
    "plt.style.use(\"seaborn\")"
   ]
  },
  {
   "cell_type": "markdown",
   "metadata": {},
   "source": [
    "###### Functions"
   ]
  },
  {
   "cell_type": "code",
   "execution_count": 28,
   "metadata": {},
   "outputs": [],
   "source": [
    "# use plot_colors dict for cell background in dataframe\n",
    "def color_chart(deck):\n",
    "    if deck in all_decks:\n",
    "        color = plot_colors[deck]\n",
    "        return 'background-color: %s' % color\n",
    "        \n",
    "\n",
    "# adjust dataframe formatting\n",
    "def shade_cells(dataframe):\n",
    "    return dataframe.style.applymap(color_chart).set_properties(**{'text-align':'center'}).format(precision=0, na_rep='n/a')"
   ]
  },
  {
   "cell_type": "code",
   "execution_count": 29,
   "metadata": {},
   "outputs": [],
   "source": [
    "def filter_combos(df, *decks):\n",
    "\n",
    "    filtered = df.copy()\n",
    "\n",
    "    for deck in decks:\n",
    "        if deck not in deck_names.values() and deck in deck_names:\n",
    "            deck = deck_names[deck]\n",
    "\n",
    "        # find combinations containing selected decks\n",
    "        filtered = filtered[filtered['decks'].str.contains(deck, na=False)]\n",
    "        filtered.replace(deck, '', inplace=True, regex=True)\n",
    "    \n",
    "    filtered['decks'] = filtered['decks'].str.strip()\n",
    "\n",
    "    # remove combinations that haven't been used yet (NaN in % wins col)\n",
    "    filtered = filtered.dropna()\n",
    "\n",
    "    # reset index\n",
    "    filtered.reset_index(inplace=True, drop=True)\n",
    "    return filtered"
   ]
  },
  {
   "cell_type": "code",
   "execution_count": 39,
   "metadata": {},
   "outputs": [],
   "source": [
    "# create a graph of deck choices\n",
    "def choice_graph(x, y, color, title):\n",
    "    \n",
    "    # adjust graph size based on number of decks to choose from\n",
    "    graph_length = (len(x) / 4) + 2\n",
    "    \n",
    "    fig, ax =plt.subplots(figsize=(6,graph_length), dpi=100)\n",
    "\n",
    "    ax.set_title(title)\n",
    "    ax.barh(x, y, color=color, alpha=0.82)\n",
    "    ax.set_xlim(-10, None)\n",
    "\n",
    "    for index, value in enumerate(y):\n",
    "        plt.text((value - 2), (index-0.05), str('{:.0f}%'.format(value)), **bar_text)\n",
    "\n",
    "    #fig.savefig(\"images/example.jpg\", bbox_inches=\"tight\")"
   ]
  },
  {
   "cell_type": "markdown",
   "metadata": {},
   "source": [
    "##### Deck combinations x3"
   ]
  },
  {
   "cell_type": "code",
   "execution_count": 31,
   "metadata": {},
   "outputs": [],
   "source": [
    "p2_choices = [' '.join(map(str, combo)) for combo in combinations(all_decks, 3)]\n",
    "\n",
    "p2_choices = pd.DataFrame(p2_choices, columns=['decks'])"
   ]
  },
  {
   "cell_type": "code",
   "execution_count": 32,
   "metadata": {},
   "outputs": [],
   "source": [
    "def choose_deck(*chosen_decks):\n",
    "\n",
    "    chosen_decks = [i for i in chosen_decks if i]\n",
    "\n",
    "    # if three decks were entered, return choices for final deck\n",
    "    if len(chosen_decks) == 3:\n",
    "        \n",
    "        choices = combos.copy()\n",
    "\n",
    "        for chosen_deck in chosen_decks:\n",
    "            choices = filter_combos(choices, chosen_deck)\n",
    "\n",
    "        x = choices['decks']\n",
    "        y = choices['% wins']\n",
    "        colors = [plot_colors[key] for key in x]\n",
    "        title = f'tales of tribute: final choice ({chosen_decks[0]}, {chosen_decks[1]}, {chosen_decks[2]})'\n",
    "\n",
    "    # if one deck was entered, find best choices for second and third decks\n",
    "    elif len(chosen_decks) == 1:\n",
    "\n",
    "        choices = filter_combos(p2_choices, chosen_decks[0])\n",
    "\n",
    "        for row, deck_pairs in enumerate(choices['decks']):\n",
    "            deck_pairs = deck_pairs.split()\n",
    "\n",
    "            choices_score = filter_combos(combos, chosen_decks[0], deck_pairs[0], deck_pairs[1])\n",
    "\n",
    "            untested = (6 - len(choices_score.index))\n",
    "\n",
    "            score = choices_score['% wins'].sum()\n",
    "\n",
    "            choices.at[row, 'untested'] = untested\n",
    "\n",
    "            if untested == 6:\n",
    "                choices.at[row, '% wins'] = 0\n",
    "\n",
    "            elif score == 0:\n",
    "                choices.at[row, '% wins'] = 0\n",
    "\n",
    "            else:\n",
    "                choices.at[row, '% wins'] = (score / (6 - untested)).round(decimals=1)\n",
    "\n",
    "        choices = choices.sort_values(['untested','% wins'], ascending=[True, False])\n",
    "        choices = choices.head(10)\n",
    "\n",
    "        x = choices['decks']\n",
    "        y = choices['% wins']\n",
    "        if chosen_decks[0] not in plot_colors and chosen_decks[0] in deck_names:\n",
    "            colors = plot_colors[deck_names[chosen_decks[0]]]\n",
    "        else:\n",
    "            colors = plot_colors[chosen_decks[0]]\n",
    "        title = f'tales of tribute: player 2 deck choices ({chosen_decks[0]})'\n",
    "\n",
    "    # if no decks were entered, show performance of individual decks\n",
    "    else:\n",
    "        \n",
    "        x = single_decks['deck']\n",
    "        y = single_decks['% wins']\n",
    "        colors = [plot_colors[key] for key in x]\n",
    "        title = 'tales of tribute: first deck choice'\n",
    "\n",
    "    choice_graph(x, y, colors, title)"
   ]
  },
  {
   "cell_type": "markdown",
   "metadata": {},
   "source": [
    "## Opponent deck choices"
   ]
  },
  {
   "cell_type": "code",
   "execution_count": 33,
   "metadata": {},
   "outputs": [],
   "source": [
    "# create new columns\n",
    "df[\"op deck 1\"] = \"\"\n",
    "df[\"op deck 2\"] = \"\"\n",
    "\n",
    "# fill new columns based on choice order\n",
    "for i, value in enumerate(df[\"choice\"]):\n",
    "    if value == 1:\n",
    "        # fill new cols for matches as player 1\n",
    "        df.at[i, \"op deck 1\"] = df.at[i, \"p2 first\"]\n",
    "        df.at[i, \"op deck 2\"] = df.at[i, \"p2 second\"]\n",
    "\n",
    "    elif value == 2:\n",
    "        # fill new cols for matches as player 2\n",
    "        df.at[i, \"op deck 1\"] = df.at[i, \"p1 first\"]\n",
    "        df.at[i, \"op deck 2\"] = df.at[i, \"p1 second\"]"
   ]
  },
  {
   "cell_type": "code",
   "execution_count": 34,
   "metadata": {},
   "outputs": [],
   "source": [
    "# filter dataframe for opposing player sheet\n",
    "players = df[\n",
    "    [\n",
    "        \"opponent\",\n",
    "        \"op deck 1\",\n",
    "        \"op deck 2\",\n",
    "        \"won\",\n",
    "        \"lost\",\n",
    "        \"notes\",\n",
    "    ]\n",
    "]\n",
    "\n",
    "# sort matches by opponent username\n",
    "players = players.sort_values(by=\"opponent\", key=lambda col: col.str.lower())\n",
    "\n",
    "# reset index\n",
    "players.reset_index(drop=True, inplace=True)"
   ]
  },
  {
   "cell_type": "code",
   "execution_count": 35,
   "metadata": {},
   "outputs": [
    {
     "data": {
      "text/html": [
       "<div>\n",
       "<style scoped>\n",
       "    .dataframe tbody tr th:only-of-type {\n",
       "        vertical-align: middle;\n",
       "    }\n",
       "\n",
       "    .dataframe tbody tr th {\n",
       "        vertical-align: top;\n",
       "    }\n",
       "\n",
       "    .dataframe thead th {\n",
       "        text-align: right;\n",
       "    }\n",
       "</style>\n",
       "<table border=\"1\" class=\"dataframe\">\n",
       "  <thead>\n",
       "    <tr style=\"text-align: right;\">\n",
       "      <th></th>\n",
       "      <th>opponent</th>\n",
       "      <th>op deck 1</th>\n",
       "      <th>op deck 2</th>\n",
       "      <th>won</th>\n",
       "      <th>lost</th>\n",
       "      <th>notes</th>\n",
       "    </tr>\n",
       "  </thead>\n",
       "  <tbody>\n",
       "    <tr>\n",
       "      <th>0</th>\n",
       "      <td>(forgot to write down)</td>\n",
       "      <td>crow</td>\n",
       "      <td>pelin</td>\n",
       "      <td>0</td>\n",
       "      <td>1</td>\n",
       "      <td>cards betrayed me literally at the end</td>\n",
       "    </tr>\n",
       "    <tr>\n",
       "      <th>1</th>\n",
       "      <td>(forgot to write down)</td>\n",
       "      <td>crow</td>\n",
       "      <td>reach</td>\n",
       "      <td>1</td>\n",
       "      <td>0</td>\n",
       "      <td></td>\n",
       "    </tr>\n",
       "    <tr>\n",
       "      <th>2</th>\n",
       "      <td>(player, forgot to write)</td>\n",
       "      <td>pelin</td>\n",
       "      <td>hlaalu</td>\n",
       "      <td>0</td>\n",
       "      <td>1</td>\n",
       "      <td>cards were against me</td>\n",
       "    </tr>\n",
       "  </tbody>\n",
       "</table>\n",
       "</div>"
      ],
      "text/plain": [
       "                    opponent op deck 1 op deck 2  won  lost  \\\n",
       "0     (forgot to write down)      crow     pelin    0     1   \n",
       "1     (forgot to write down)      crow     reach    1     0   \n",
       "2  (player, forgot to write)     pelin    hlaalu    0     1   \n",
       "\n",
       "                                    notes  \n",
       "0  cards betrayed me literally at the end  \n",
       "1                                          \n",
       "2                   cards were against me  "
      ]
     },
     "execution_count": 35,
     "metadata": {},
     "output_type": "execute_result"
    }
   ],
   "source": [
    "players.head(3)"
   ]
  },
  {
   "cell_type": "code",
   "execution_count": 36,
   "metadata": {},
   "outputs": [
    {
     "name": "stdout",
     "output_type": "stream",
     "text": [
      "players worksheet updated\n"
     ]
    }
   ],
   "source": [
    "# set worksheet to save players to\n",
    "worksheet = sh.worksheet(\"players\")\n",
    "\n",
    "# save worksheet to Google Sheets\n",
    "set_with_dataframe(worksheet, players)\n",
    "print(\"players worksheet updated\")"
   ]
  },
  {
   "cell_type": "markdown",
   "metadata": {},
   "source": [
    "## Examples"
   ]
  },
  {
   "cell_type": "markdown",
   "metadata": {},
   "source": [
    "#### Example 1:"
   ]
  },
  {
   "cell_type": "code",
   "execution_count": 41,
   "metadata": {},
   "outputs": [
    {
     "data": {
      "image/png": "[encoded data removed]",
      "text/plain": [
       "<Figure size 600x425 with 1 Axes>"
      ]
     },
     "metadata": {},
     "output_type": "display_data"
    }
   ],
   "source": [
    "# player 1, first deck\n",
    "choose_deck()"
   ]
  },
  {
   "cell_type": "code",
   "execution_count": null,
   "metadata": {},
   "outputs": [],
   "source": [
    "# player 1, fourth deck\n",
    "choose_deck('red', 'black', 'purple')"
   ]
  },
  {
   "cell_type": "markdown",
   "metadata": {},
   "source": [
    "#### Example 2:"
   ]
  },
  {
   "cell_type": "code",
   "execution_count": null,
   "metadata": {},
   "outputs": [],
   "source": [
    "# player 2, second and third decks\n",
    "choose_deck('yellow')"
   ]
  },
  {
   "cell_type": "markdown",
   "metadata": {},
   "source": [
    "#### Example 3:"
   ]
  },
  {
   "cell_type": "code",
   "execution_count": null,
   "metadata": {},
   "outputs": [],
   "source": [
    "# player 1, fourth deck\n",
    "choose_deck('red', 'yellow', 'purple')"
   ]
  },
  {
   "cell_type": "markdown",
   "metadata": {},
   "source": [
    "## Match Suggestion"
   ]
  },
  {
   "cell_type": "code",
   "execution_count": null,
   "metadata": {},
   "outputs": [],
   "source": [
    "deck1 = 'black'\n",
    "deck2 = 'red'\n",
    "deck3 = 'yellow'\n",
    "\n",
    "choose_deck(deck1, deck2, deck3)"
   ]
  },
  {
   "cell_type": "code",
   "execution_count": null,
   "metadata": {},
   "outputs": [],
   "source": [
    "opponent = \"Eliaticstranger\"\n",
    "opp_prefs = players[players[\"opponent\"] == opponent]\n",
    "\n",
    "opp_prefs[['opponent', 'op deck 1', 'op deck 2']].style.applymap(color_chart)"
   ]
  },
  {
   "cell_type": "markdown",
   "metadata": {},
   "source": [
    "###### Copy & paste for match record:"
   ]
  },
  {
   "cell_type": "code",
   "execution_count": null,
   "metadata": {},
   "outputs": [],
   "source": [
    "print(opponent, deck1, deck2, deck3, sep=',')"
   ]
  }
 ],
 "metadata": {
  "kernelspec": {
   "display_name": "Python 3 (ipykernel)",
   "language": "python",
   "name": "python3"
  },
  "language_info": {
   "codemirror_mode": {
    "name": "ipython",
    "version": 3
   },
   "file_extension": ".py",
   "mimetype": "text/x-python",
   "name": "python",
   "nbconvert_exporter": "python",
   "pygments_lexer": "ipython3",
   "version": "3.9.13"
  },
  "vscode": {
   "interpreter": {
    "hash": "647886b26dc6b91f9b2a4588ba7cdc2dc5d01996522d6f908beccd6ae1e6ffae"
   }
  }
 },
 "nbformat": 4,
 "nbformat_minor": 2
}
